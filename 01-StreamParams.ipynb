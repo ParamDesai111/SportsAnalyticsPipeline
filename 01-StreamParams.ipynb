{
 "cells": [
  {
   "cell_type": "code",
   "execution_count": 0,
   "metadata": {
    "application/vnd.databricks.v1+cell": {
     "cellMetadata": {
      "byteLimit": 2048000,
      "rowLimit": 10000
     },
     "inputWidgets": {},
     "nuid": "7fa6e204-a640-4ea0-a896-79e547bc355a",
     "showTitle": false,
     "title": ""
    }
   },
   "outputs": [],
   "source": [
    "import requests\n",
    "\n",
    "api_endpoint = \"https://api.balldontlie.io/v1/teams\"\n",
    "authorization_key = \"f23ff27a-650f-4d31-aa3e-c2ecf104e972\"\n",
    "\n",
    "headers = {\n",
    "    \"Authorization\": f\"Bearer {authorization_key}\",\n",
    "    \"Content-Type\": \"application/json\"\n",
    "}\n",
    "\n",
    "response = requests.get(api_endpoint, headers=headers)\n",
    "\n",
    "if response.status_code == 200:\n",
    "    print(\"Request was successful.\")\n",
    "    data = response.json()\n",
    "    print(data)\n",
    "else:\n",
    "    print(f\"Request failed with status code {response.status_code}\")\n",
    "    print(response.text)\n"
   ]
  }
 ],
 "metadata": {
  "application/vnd.databricks.v1+notebook": {
   "dashboards": [],
   "environmentMetadata": null,
   "language": "python",
   "notebookMetadata": {
    "pythonIndentUnit": 4
   },
   "notebookName": "01-StreamParams",
   "widgets": {}
  }
 },
 "nbformat": 4,
 "nbformat_minor": 0
}
