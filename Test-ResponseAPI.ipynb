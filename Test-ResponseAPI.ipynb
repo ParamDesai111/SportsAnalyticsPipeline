{
 "cells": [
  {
   "cell_type": "code",
   "execution_count": 0,
   "metadata": {
    "application/vnd.databricks.v1+cell": {
     "cellMetadata": {
      "byteLimit": 2048000,
      "rowLimit": 10000
     },
     "inputWidgets": {},
     "nuid": "6d53011c-2294-409d-b4cd-2dea2ac64aa6",
     "showTitle": false,
     "title": ""
    }
   },
   "outputs": [],
   "source": [
    "%run ./01-Params"
   ]
  },
  {
   "cell_type": "code",
   "execution_count": 0,
   "metadata": {
    "application/vnd.databricks.v1+cell": {
     "cellMetadata": {
      "byteLimit": 2048000,
      "rowLimit": 10000
     },
     "inputWidgets": {},
     "nuid": "7fa6e204-a640-4ea0-a896-79e547bc355a",
     "showTitle": false,
     "title": ""
    }
   },
   "outputs": [],
   "source": [
    "import requests\n",
    "\n",
    "# Ball Dont Lie\n",
    "api_endpoint = \"https://api.balldontlie.io/v1/stats\"\n",
    "authorization_key = \"f23ff27a-650f-4d31-aa3e-c2ecf104e972\"\n",
    "\n",
    "\n",
    "# Set up the headers with the authorization key\n",
    "headers = {\n",
    "    \"Authorization\": authorization_key\n",
    "}\n",
    "\n",
    "# Make the GET request\n",
    "response = requests.get(api_endpoint, headers=headers)\n",
    "\n",
    "# Check the response status code and print the response content\n",
    "if response.status_code == 200:\n",
    "    print(\"Request was successful.\")\n",
    "    data = response.json()\n",
    "    print(data)\n",
    "else:\n",
    "    print(f\"Request failed with status code {response.status_code}\")\n",
    "    print(response.text)\n"
   ]
  },
  {
   "cell_type": "code",
   "execution_count": 0,
   "metadata": {
    "application/vnd.databricks.v1+cell": {
     "cellMetadata": {
      "byteLimit": 2048000,
      "rowLimit": 10000
     },
     "inputWidgets": {},
     "nuid": "ce675cc6-a858-47c3-89bb-dcde8a0e7e4c",
     "showTitle": false,
     "title": ""
    }
   },
   "outputs": [],
   "source": [
    "import requests\n",
    "\n",
    "url = \"https://api-nba-v1.p.rapidapi.com/players\"\n",
    "\n",
    "querystring = {\"team\":\"1\",\"season\":\"2021\"}\n",
    "\n",
    "headers = {\n",
    "\t\"x-rapidapi-key\": \"905d163401msh8ffad9a0de8abc0p1c52ccjsn78af2ce50384\",\n",
    "\t\"x-rapidapi-host\": \"api-nba-v1.p.rapidapi.com\"\n",
    "}\n",
    "\n",
    "response = requests.get(url, headers=headers, params=querystring)\n",
    "\n",
    "print(response.json())"
   ]
  },
  {
   "cell_type": "code",
   "execution_count": 0,
   "metadata": {
    "application/vnd.databricks.v1+cell": {
     "cellMetadata": {
      "byteLimit": 2048000,
      "rowLimit": 10000
     },
     "inputWidgets": {},
     "nuid": "550659fe-6904-4cae-a2e3-2cbdc2e351e5",
     "showTitle": false,
     "title": ""
    }
   },
   "outputs": [],
   "source": [
    "import requests\n",
    "\n",
    "url = \"https://www.thesportsdb.com//api/v1/json/3/lookupmilestones.php?id=34153733\"\n",
    "\n",
    "response = requests.get(url)\n",
    "# Lebron Player ID = 34153733\n",
    "print(response.json())"
   ]
  },
  {
   "cell_type": "code",
   "execution_count": 0,
   "metadata": {
    "application/vnd.databricks.v1+cell": {
     "cellMetadata": {
      "byteLimit": 2048000,
      "rowLimit": 10000
     },
     "inputWidgets": {},
     "nuid": "cd4f0982-2004-4f10-9f91-7ad827dea501",
     "showTitle": false,
     "title": ""
    }
   },
   "outputs": [],
   "source": [
    "import requests\n",
    "\n",
    "url = \"http://b8c40s8.143.198.70.30.sslip.io/api/PlayerDataTotals/name/LeBron James\"\n",
    "\n",
    "payload={}\n",
    "headers = {}\n",
    "\n",
    "response = requests.request(\"GET\", url, headers=headers, data=payload)\n",
    "\n",
    "print(response.text)\n"
   ]
  },
  {
   "cell_type": "code",
   "execution_count": 0,
   "metadata": {
    "application/vnd.databricks.v1+cell": {
     "cellMetadata": {
      "byteLimit": 2048000,
      "rowLimit": 10000
     },
     "inputWidgets": {},
     "nuid": "18020047-a443-4451-af69-c645ba2bb322",
     "showTitle": false,
     "title": ""
    }
   },
   "outputs": [],
   "source": [
    "import requests\n",
    "\n",
    "url = \"http://b8c40s8.143.198.70.30.sslip.io/api/PlayerDataTotals/query?playerName=Victor Wembanyama&season=2024\"\n",
    "\n",
    "payload={}\n",
    "headers = {}\n",
    "\n",
    "response = requests.request(\"GET\", url, headers=headers, data=payload)\n",
    "\n",
    "print(response.text)\n"
   ]
  },
  {
   "cell_type": "markdown",
   "metadata": {
    "application/vnd.databricks.v1+cell": {
     "cellMetadata": {},
     "inputWidgets": {},
     "nuid": "82607d74-72b4-4276-a12e-c047f1c25f74",
     "showTitle": false,
     "title": ""
    }
   },
   "source": [
    "# Insert data of players in one json with daily pickup"
   ]
  },
  {
   "cell_type": "code",
   "execution_count": 0,
   "metadata": {
    "application/vnd.databricks.v1+cell": {
     "cellMetadata": {
      "byteLimit": 2048000,
      "rowLimit": 10000
     },
     "inputWidgets": {},
     "nuid": "483f3d75-b002-4a02-9021-cf87d3ae08f5",
     "showTitle": false,
     "title": ""
    }
   },
   "outputs": [],
   "source": [
    "import requests\n",
    "import json\n",
    "from azure.storage.blob import BlobServiceClient, BlobClient, ContainerClient\n",
    "\n",
    "# Fetch the JSON data from the URL\n",
    "url = \"https://nba-stats-db.herokuapp.com/api/playerdata/season/2023\"\n",
    "payload = {}\n",
    "headers = {}\n",
    "\n",
    "response = requests.request(\"GET\", url, headers=headers, data=payload)\n",
    "\n",
    "# Save the JSON data to a file\n",
    "data = response.json()\n",
    "file_name = 'jsonresponse.json'\n",
    "with open(file_name, 'w') as json_file:\n",
    "    json.dump(data, json_file, indent=4)\n",
    "\n",
    "print(\"JSON data saved to jsonresponse.json\")\n",
    "\n",
    "# Azure Blob Storage details\n",
    "container_name = \"land-api-response\"\n",
    "\n",
    "# Create the BlobServiceClient object\n",
    "blob_service_client = BlobServiceClient.from_connection_string(connection_string)\n",
    "\n",
    "# Create a blob client using the local file name as the name for the blob\n",
    "blob_client = blob_service_client.get_blob_client(container=container_name, blob=file_name)\n",
    "\n",
    "# Upload the file to Azure Blob Storage\n",
    "with open(file_name, \"rb\") as data:\n",
    "    blob_client.upload_blob(data, overwrite=True)\n",
    "\n",
    "print(f\"File {file_name} uploaded to Azure Blob Storage container {container_name}.\")\n",
    "\n"
   ]
  },
  {
   "cell_type": "code",
   "execution_count": 0,
   "metadata": {
    "application/vnd.databricks.v1+cell": {
     "cellMetadata": {
      "byteLimit": 2048000,
      "rowLimit": 10000
     },
     "inputWidgets": {},
     "nuid": "5c9f00c3-48a9-4f9f-a845-2e755edf4df2",
     "showTitle": false,
     "title": ""
    }
   },
   "outputs": [],
   "source": [
    "\n",
    "\n",
    "\n",
    "test_df = spark.read.format(\"jdbc\").option(\"url\", jdbcUrl).option(\"dbtable\", \"sys.tables\").option(\"user\", jdbcUsername).option(\"password\", jdbcPassword).option(\"driver\", \"com.microsoft.sqlserver.jdbc.SQLServerDriver\").load()\n",
    "test_df.show()\n",
    "\n",
    "\n"
   ]
  }
 ],
 "metadata": {
  "application/vnd.databricks.v1+notebook": {
   "dashboards": [],
   "environmentMetadata": null,
   "language": "python",
   "notebookMetadata": {
    "pythonIndentUnit": 4
   },
   "notebookName": "Test-ResponseAPI",
   "widgets": {}
  }
 },
 "nbformat": 4,
 "nbformat_minor": 0
}
