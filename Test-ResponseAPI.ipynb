{
 "cells": [
  {
   "cell_type": "code",
   "execution_count": 0,
   "metadata": {
    "application/vnd.databricks.v1+cell": {
     "cellMetadata": {
      "byteLimit": 2048000,
      "rowLimit": 10000
     },
     "inputWidgets": {},
     "nuid": "6d53011c-2294-409d-b4cd-2dea2ac64aa6",
     "showTitle": false,
     "title": ""
    }
   },
   "outputs": [],
   "source": [
    "%run ./01-Params"
   ]
  },
  {
   "cell_type": "code",
   "execution_count": 0,
   "metadata": {
    "application/vnd.databricks.v1+cell": {
     "cellMetadata": {
      "byteLimit": 2048000,
      "rowLimit": 10000
     },
     "inputWidgets": {},
     "nuid": "7fa6e204-a640-4ea0-a896-79e547bc355a",
     "showTitle": false,
     "title": ""
    }
   },
   "outputs": [],
   "source": [
    "import requests\n",
    "\n",
    "# Ball Dont Lie\n",
    "api_endpoint = \"https://api.balldontlie.io/v1/stats\"\n",
    "authorization_key = \"f23ff27a-650f-4d31-aa3e-c2ecf104e972\"\n",
    "\n",
    "\n",
    "# Set up the headers with the authorization key\n",
    "headers = {\n",
    "    \"Authorization\": authorization_key\n",
    "}\n",
    "\n",
    "# Make the GET request\n",
    "response = requests.get(api_endpoint, headers=headers)\n",
    "\n",
    "# Check the response status code and print the response content\n",
    "if response.status_code == 200:\n",
    "    print(\"Request was successful.\")\n",
    "    data = response.json()\n",
    "    print(data)\n",
    "else:\n",
    "    print(f\"Request failed with status code {response.status_code}\")\n",
    "    print(response.text)\n"
   ]
  },
  {
   "cell_type": "code",
   "execution_count": 0,
   "metadata": {
    "application/vnd.databricks.v1+cell": {
     "cellMetadata": {
      "byteLimit": 2048000,
      "rowLimit": 10000
     },
     "inputWidgets": {},
     "nuid": "ce675cc6-a858-47c3-89bb-dcde8a0e7e4c",
     "showTitle": false,
     "title": ""
    }
   },
   "outputs": [],
   "source": [
    "import requests\n",
    "\n",
    "url = \"https://api-nba-v1.p.rapidapi.com/players\"\n",
    "\n",
    "querystring = {\"team\":\"1\",\"season\":\"2021\"}\n",
    "\n",
    "headers = {\n",
    "\t\"x-rapidapi-key\": \"905d163401msh8ffad9a0de8abc0p1c52ccjsn78af2ce50384\",\n",
    "\t\"x-rapidapi-host\": \"api-nba-v1.p.rapidapi.com\"\n",
    "}\n",
    "\n",
    "response = requests.get(url, headers=headers, params=querystring)\n",
    "\n",
    "print(response.json())"
   ]
  },
  {
   "cell_type": "code",
   "execution_count": 0,
   "metadata": {
    "application/vnd.databricks.v1+cell": {
     "cellMetadata": {
      "byteLimit": 2048000,
      "rowLimit": 10000
     },
     "inputWidgets": {},
     "nuid": "550659fe-6904-4cae-a2e3-2cbdc2e351e5",
     "showTitle": false,
     "title": ""
    }
   },
   "outputs": [],
   "source": [
    "import requests\n",
    "\n",
    "url = \"https://www.thesportsdb.com//api/v1/json/3/lookupmilestones.php?id=34153733\"\n",
    "\n",
    "response = requests.get(url)\n",
    "# Lebron Player ID = 34153733\n",
    "print(response.json())"
   ]
  },
  {
   "cell_type": "code",
   "execution_count": 0,
   "metadata": {
    "application/vnd.databricks.v1+cell": {
     "cellMetadata": {
      "byteLimit": 2048000,
      "rowLimit": 10000
     },
     "inputWidgets": {},
     "nuid": "5b8bec53-c64d-496c-90c4-e5f9e31e965f",
     "showTitle": false,
     "title": ""
    }
   },
   "outputs": [],
   "source": [
    "%pip install pylightning\n",
    "\n",
    "from pylightning import LightningRpc\n",
    "\n",
    "# Connect to the Lightning node\n",
    "lightning_node_url = \"0338f57e4e20abf4d5c86b71b59e995ce4378e373b021a7b6f41dabb42d3aad069@ln.test.suredbits.com\"\n",
    "rpc = LightningRpc(lightning_node_url)\n",
    "\n",
    "# Example: Get node information\n",
    "node_info = rpc.getinfo()\n",
    "print(node_info)\n"
   ]
  },
  {
   "cell_type": "code",
   "execution_count": 0,
   "metadata": {
    "application/vnd.databricks.v1+cell": {
     "cellMetadata": {
      "byteLimit": 2048000,
      "rowLimit": 10000
     },
     "inputWidgets": {},
     "nuid": "cd9327c5-5a90-44fc-b46e-0bf54939f9a9",
     "showTitle": false,
     "title": ""
    }
   },
   "outputs": [],
   "source": []
  },
  {
   "cell_type": "code",
   "execution_count": 0,
   "metadata": {
    "application/vnd.databricks.v1+cell": {
     "cellMetadata": {},
     "inputWidgets": {},
     "nuid": "a386aaf3-575c-4089-afd4-90f1442b4400",
     "showTitle": false,
     "title": ""
    }
   },
   "outputs": [],
   "source": []
  }
 ],
 "metadata": {
  "application/vnd.databricks.v1+notebook": {
   "dashboards": [],
   "environmentMetadata": null,
   "language": "python",
   "notebookMetadata": {
    "pythonIndentUnit": 4
   },
   "notebookName": "Test-ResponseAPI",
   "widgets": {}
  }
 },
 "nbformat": 4,
 "nbformat_minor": 0
}
