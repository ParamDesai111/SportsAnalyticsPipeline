{
 "cells": [
  {
   "cell_type": "code",
   "execution_count": 0,
   "metadata": {
    "application/vnd.databricks.v1+cell": {
     "cellMetadata": {
      "byteLimit": 2048000,
      "rowLimit": 10000
     },
     "inputWidgets": {},
     "nuid": "6d53011c-2294-409d-b4cd-2dea2ac64aa6",
     "showTitle": false,
     "title": ""
    }
   },
   "outputs": [],
   "source": [
    "%run ./01-Params"
   ]
  },
  {
   "cell_type": "code",
   "execution_count": 0,
   "metadata": {
    "application/vnd.databricks.v1+cell": {
     "cellMetadata": {
      "byteLimit": 2048000,
      "rowLimit": 10000
     },
     "inputWidgets": {},
     "nuid": "7fa6e204-a640-4ea0-a896-79e547bc355a",
     "showTitle": false,
     "title": ""
    }
   },
   "outputs": [],
   "source": [
    "import requests\n",
    "\n",
    "# Ball Dont Lie\n",
    "api_endpoint = \"https://api.balldontlie.io/v1/stats\"\n",
    "authorization_key = \"f23ff27a-650f-4d31-aa3e-c2ecf104e972\"\n",
    "\n",
    "\n",
    "# Set up the headers with the authorization key\n",
    "headers = {\n",
    "    \"Authorization\": authorization_key\n",
    "}\n",
    "\n",
    "# Make the GET request\n",
    "response = requests.get(api_endpoint, headers=headers)\n",
    "\n",
    "# Check the response status code and print the response content\n",
    "if response.status_code == 200:\n",
    "    print(\"Request was successful.\")\n",
    "    data = response.json()\n",
    "    print(data)\n",
    "else:\n",
    "    print(f\"Request failed with status code {response.status_code}\")\n",
    "    print(response.text)\n"
   ]
  },
  {
   "cell_type": "code",
   "execution_count": 0,
   "metadata": {
    "application/vnd.databricks.v1+cell": {
     "cellMetadata": {
      "byteLimit": 2048000,
      "rowLimit": 10000
     },
     "inputWidgets": {},
     "nuid": "ce675cc6-a858-47c3-89bb-dcde8a0e7e4c",
     "showTitle": false,
     "title": ""
    }
   },
   "outputs": [],
   "source": [
    "import requests\n",
    "\n",
    "url = \"https://api-nba-v1.p.rapidapi.com/players\"\n",
    "\n",
    "querystring = {\"team\":\"1\",\"season\":\"2021\"}\n",
    "\n",
    "headers = {\n",
    "\t\"x-rapidapi-key\": \"905d163401msh8ffad9a0de8abc0p1c52ccjsn78af2ce50384\",\n",
    "\t\"x-rapidapi-host\": \"api-nba-v1.p.rapidapi.com\"\n",
    "}\n",
    "\n",
    "response = requests.get(url, headers=headers, params=querystring)\n",
    "\n",
    "print(response.json())"
   ]
  },
  {
   "cell_type": "code",
   "execution_count": 0,
   "metadata": {
    "application/vnd.databricks.v1+cell": {
     "cellMetadata": {
      "byteLimit": 2048000,
      "rowLimit": 10000
     },
     "inputWidgets": {},
     "nuid": "550659fe-6904-4cae-a2e3-2cbdc2e351e5",
     "showTitle": false,
     "title": ""
    }
   },
   "outputs": [],
   "source": [
    "import requests\n",
    "\n",
    "url = \"https://www.thesportsdb.com//api/v1/json/3/lookupmilestones.php?id=34153733\"\n",
    "\n",
    "response = requests.get(url)\n",
    "# Lebron Player ID = 34153733\n",
    "print(response.json())"
   ]
  },
  {
   "cell_type": "code",
   "execution_count": 0,
   "metadata": {
    "application/vnd.databricks.v1+cell": {
     "cellMetadata": {
      "byteLimit": 2048000,
      "rowLimit": 10000
     },
     "inputWidgets": {},
     "nuid": "cd4f0982-2004-4f10-9f91-7ad827dea501",
     "showTitle": false,
     "title": ""
    }
   },
   "outputs": [],
   "source": [
    "import requests\n",
    "\n",
    "url = \"http://b8c40s8.143.198.70.30.sslip.io/api/PlayerDataTotals/name/LeBron James\"\n",
    "\n",
    "payload={}\n",
    "headers = {}\n",
    "\n",
    "response = requests.request(\"GET\", url, headers=headers, data=payload)\n",
    "\n",
    "print(response.text)\n"
   ]
  },
  {
   "cell_type": "code",
   "execution_count": 0,
   "metadata": {
    "application/vnd.databricks.v1+cell": {
     "cellMetadata": {
      "byteLimit": 2048000,
      "rowLimit": 10000
     },
     "inputWidgets": {},
     "nuid": "18020047-a443-4451-af69-c645ba2bb322",
     "showTitle": false,
     "title": ""
    }
   },
   "outputs": [],
   "source": [
    "import requests\n",
    "\n",
    "url = \"http://b8c40s8.143.198.70.30.sslip.io/api/PlayerDataTotals/query?playerName=Kyrie Irving&season=2024\"\n",
    "\n",
    "payload={}\n",
    "headers = {}\n",
    "\n",
    "response = requests.request(\"GET\", url, headers=headers, data=payload)\n",
    "\n",
    "print(response.text)\n"
   ]
  }
 ],
 "metadata": {
  "application/vnd.databricks.v1+notebook": {
   "dashboards": [],
   "environmentMetadata": null,
   "language": "python",
   "notebookMetadata": {
    "pythonIndentUnit": 4
   },
   "notebookName": "Test-ResponseAPI",
   "widgets": {}
  }
 },
 "nbformat": 4,
 "nbformat_minor": 0
}
