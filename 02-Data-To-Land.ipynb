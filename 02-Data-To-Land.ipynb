{
 "cells": [
  {
   "cell_type": "code",
   "execution_count": 0,
   "metadata": {
    "application/vnd.databricks.v1+cell": {
     "cellMetadata": {
      "byteLimit": 2048000,
      "rowLimit": 10000
     },
     "inputWidgets": {},
     "nuid": "4e686c90-65a3-4bcc-9c89-b672dab95c87",
     "showTitle": false,
     "title": ""
    }
   },
   "outputs": [],
   "source": [
    "%run ./01-Params"
   ]
  },
  {
   "cell_type": "markdown",
   "metadata": {
    "application/vnd.databricks.v1+cell": {
     "cellMetadata": {},
     "inputWidgets": {},
     "nuid": "11b12ea7-a4e8-4e32-80c0-83db074739ab",
     "showTitle": false,
     "title": ""
    }
   },
   "source": [
    "# Get Players List each Year\n",
    "\n",
    "#### Retrive players associated with List for each year (Historical Data)"
   ]
  },
  {
   "cell_type": "code",
   "execution_count": 0,
   "metadata": {
    "application/vnd.databricks.v1+cell": {
     "cellMetadata": {
      "byteLimit": 2048000,
      "rowLimit": 10000
     },
     "inputWidgets": {},
     "nuid": "70bb3244-a20b-4f13-80b1-cbdb8751a29f",
     "showTitle": false,
     "title": ""
    }
   },
   "outputs": [],
   "source": [
    "import requests\n",
    "import json\n",
    "from azure.storage.blob import BlobServiceClient, BlobClient\n",
    "\n",
    "def fetch_all_data(initial_url):\n",
    "    all_data = []\n",
    "    url = initial_url\n",
    "\n",
    "    while url:\n",
    "        response = requests.get(url)\n",
    "        data = response.json()\n",
    "        all_data.extend(data)\n",
    "        break\n",
    "    return all_data\n",
    "\n",
    "def upload_to_blob(data, connection_string, container_name, blob_name):\n",
    "    # Convert the data to a JSON string\n",
    "    json_data_str = json.dumps(data, indent=4)\n",
    "\n",
    "    # Create a BlobServiceClient object\n",
    "    blob_service_client = BlobServiceClient.from_connection_string(connection_string)\n",
    "\n",
    "    # Create a BlobClient object\n",
    "    blob_client = blob_service_client.get_blob_client(container=container_name, blob=blob_name)\n",
    "\n",
    "    # Upload the JSON data as a blob\n",
    "    blob_client.upload_blob(json_data_str, overwrite=True)\n",
    "\n",
    "    print(f\"JSON data uploaded to {blob_name} in container {container_name}\")\n",
    "\n",
    "# Loop through the years from 2000 to 2024\n",
    "for year in range(1993, 2025):\n",
    "    initial_url = f\"http://b8c40s8.143.198.70.30.sslip.io/api/PlayerDataTotals/season/{year}\"\n",
    "    blob_name = f\"playerdata/playerdata{year}.json\"\n",
    "    \n",
    "    # Fetch all data from the API for the given year\n",
    "    all_data = fetch_all_data(initial_url)\n",
    "    \n",
    "    # Upload the combined data to Azure Blob Storage (land-api-response)\n",
    "    upload_to_blob(all_data, connection_string, container_land_api_response , blob_name)\n"
   ]
  }
 ],
 "metadata": {
  "application/vnd.databricks.v1+notebook": {
   "dashboards": [],
   "environmentMetadata": null,
   "language": "python",
   "notebookMetadata": {
    "pythonIndentUnit": 4
   },
   "notebookName": "02-Data-To-Land",
   "widgets": {}
  }
 },
 "nbformat": 4,
 "nbformat_minor": 0
}
