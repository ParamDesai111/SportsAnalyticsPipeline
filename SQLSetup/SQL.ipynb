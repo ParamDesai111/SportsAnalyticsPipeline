{
 "cells": [
  {
   "cell_type": "code",
   "execution_count": 3,
   "metadata": {},
   "outputs": [],
   "source": [
    "import pyodbc\n",
    "import pandas as pd"
   ]
  },
  {
   "cell_type": "code",
   "execution_count": 4,
   "metadata": {},
   "outputs": [],
   "source": [
    "# Connection to Azure SQL Tables\n",
    "server = \"sportsanalyticspipeline-dbserver.database.windows.net\"\n",
    "database = \"SportsAnalyticsPipeline-DB\"\n",
    "username = \"SAPDBAdmin\"\n",
    "password = \"sqladminParam!\"\n",
    "driver= '{ODBC Driver 17 for SQL Server}'\n"
   ]
  },
  {
   "cell_type": "code",
   "execution_count": 6,
   "metadata": {},
   "outputs": [],
   "source": [
    "conn = pyodbc.connect(f'DRIVER={driver};SERVER={server};PORT=1433;DATABASE={database};UID={username};PWD={password}')"
   ]
  },
  {
   "cell_type": "code",
   "execution_count": 8,
   "metadata": {},
   "outputs": [
    {
     "name": "stdout",
     "output_type": "stream",
     "text": [
      "     id   playerId teamCode  season  games  gamesStarted  minutesPg  \\\n",
      "0   139  curryse01      BRK    2023     61             7     1211.0   \n",
      "1   836  curryse01      TOT    2022     64            64     2134.0   \n",
      "2   837  curryse01      PHI    2022     45            45     1566.0   \n",
      "3   838  curryse01      BRK    2022     19            19      569.0   \n",
      "4  1642  curryse01      PHI    2021     57            57     1638.0   \n",
      "\n",
      "   fieldGoals  fieldAttempts  fieldPercent  ...  assists  steals  blocks  \\\n",
      "0         208            449         0.463  ...       99      36       7   \n",
      "1         360            739         0.487  ...      230      53      14   \n",
      "2         256            528         0.485  ...       36      11      84   \n",
      "3         104            211         0.493  ...       49      17       3   \n",
      "4         258            552         0.467  ...       44       8      65   \n",
      "\n",
      "   turnovers  personalFouls  points   playerId  playerName  position  age  \n",
      "0         51             96   561.0  curryse01  Seth Curry        SG   33  \n",
      "1        109            148   960.0  curryse01  Seth Curry        SG   33  \n",
      "2        101            676     NaN  curryse01  Seth Curry        SG   33  \n",
      "3         25             47   284.0  curryse01  Seth Curry        SG   33  \n",
      "4         96            711     NaN  curryse01  Seth Curry        SG   33  \n",
      "\n",
      "[5 rows x 33 columns]\n"
     ]
    },
    {
     "name": "stderr",
     "output_type": "stream",
     "text": [
      "/tmp/ipykernel_7613/698397275.py:3: UserWarning: pandas only supports SQLAlchemy connectable (engine/connection) or database string URI or sqlite3 DBAPI2 connection. Other DBAPI2 objects are not tested. Please consider using SQLAlchemy.\n",
      "  df = pd.read_sql_query(query, conn)\n"
     ]
    }
   ],
   "source": [
    "query = \"SELECT * FROM PlayerStatistics AS PLS JOIN Players AS P ON PLS.playerId = P.playerId WHERE P.playerName = 'Seth Curry';\"\n",
    "\n",
    "df = pd.read_sql_query(query, conn)\n",
    "\n",
    "print(df.head())"
   ]
  },
  {
   "cell_type": "code",
   "execution_count": null,
   "metadata": {},
   "outputs": [],
   "source": []
  }
 ],
 "metadata": {
  "kernelspec": {
   "display_name": "Python 3",
   "language": "python",
   "name": "python3"
  },
  "language_info": {
   "codemirror_mode": {
    "name": "ipython",
    "version": 3
   },
   "file_extension": ".py",
   "mimetype": "text/x-python",
   "name": "python",
   "nbconvert_exporter": "python",
   "pygments_lexer": "ipython3",
   "version": "3.10.13"
  }
 },
 "nbformat": 4,
 "nbformat_minor": 2
}
